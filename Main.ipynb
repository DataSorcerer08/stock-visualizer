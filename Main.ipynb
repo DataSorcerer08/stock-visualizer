{
 "cells": [
  {
   "cell_type": "code",
   "execution_count": 1,
   "id": "9d3274c9-8774-4b67-ae39-e680bc33f6ff",
   "metadata": {},
   "outputs": [],
   "source": [
    "x : int = 10"
   ]
  },
  {
   "cell_type": "code",
   "execution_count": 2,
   "id": "6b7bba67-af4f-41e9-a2be-3b72532107c5",
   "metadata": {},
   "outputs": [
    {
     "name": "stdout",
     "output_type": "stream",
     "text": [
      "10\n"
     ]
    }
   ],
   "source": [
    "print(x)"
   ]
  },
  {
   "cell_type": "code",
   "execution_count": null,
   "id": "721c646a-b333-4cfe-9348-a433da76bf29",
   "metadata": {},
   "outputs": [],
   "source": []
  }
 ],
 "metadata": {
  "kernelspec": {
   "display_name": "Python 3 (ipykernel)",
   "language": "python",
   "name": "python3"
  },
  "language_info": {
   "codemirror_mode": {
    "name": "ipython",
    "version": 3
   },
   "file_extension": ".py",
   "mimetype": "text/x-python",
   "name": "python",
   "nbconvert_exporter": "python",
   "pygments_lexer": "ipython3",
   "version": "3.13.3"
  }
 },
 "nbformat": 4,
 "nbformat_minor": 5
}
